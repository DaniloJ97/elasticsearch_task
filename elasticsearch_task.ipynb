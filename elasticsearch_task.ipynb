{
 "cells": [
  {
   "cell_type": "code",
   "execution_count": 1,
   "id": "48374030-7c5a-48b5-a371-6dc60e93e4f8",
   "metadata": {},
   "outputs": [
    {
     "name": "stdout",
     "output_type": "stream",
     "text": [
      "Collecting Faker\n",
      "  Downloading Faker-9.3.1-py3-none-any.whl (1.2 MB)\n",
      "\u001b[K     |████████████████████████████████| 1.2 MB 3.6 MB/s eta 0:00:01\n",
      "\u001b[?25hRequirement already satisfied: python-dateutil>=2.4 in /Users/danilojanjusevic/opt/anaconda3/lib/python3.8/site-packages (from Faker) (2.8.1)\n",
      "Collecting text-unidecode==1.3\n",
      "  Downloading text_unidecode-1.3-py2.py3-none-any.whl (78 kB)\n",
      "\u001b[K     |████████████████████████████████| 78 kB 16.4 MB/s eta 0:00:01\n",
      "\u001b[?25hRequirement already satisfied: six>=1.5 in /Users/danilojanjusevic/opt/anaconda3/lib/python3.8/site-packages (from python-dateutil>=2.4->Faker) (1.15.0)\n",
      "Installing collected packages: text-unidecode, Faker\n",
      "Successfully installed Faker-9.3.1 text-unidecode-1.3\n",
      "Note: you may need to restart the kernel to use updated packages.\n"
     ]
    }
   ],
   "source": [
    "pip install Faker"
   ]
  },
  {
   "cell_type": "code",
   "execution_count": 4,
   "id": "5725aa61-f8c0-4f0a-b9d0-3c770a1383a6",
   "metadata": {},
   "outputs": [
    {
     "name": "stdout",
     "output_type": "stream",
     "text": [
      "Requirement already satisfied: jedi==0.17.2 in /Users/danilojanjusevic/opt/anaconda3/lib/python3.8/site-packages (0.17.2)\n",
      "Requirement already satisfied: parso<0.8.0,>=0.7.0 in /Users/danilojanjusevic/opt/anaconda3/lib/python3.8/site-packages (from jedi==0.17.2) (0.7.0)\n",
      "Note: you may need to restart the kernel to use updated packages.\n"
     ]
    }
   ],
   "source": [
    "pip install jedi==0.17.2"
   ]
  },
  {
   "cell_type": "code",
   "execution_count": 1,
   "id": "dba237fe-ad60-4bd1-8300-02ce615a7f46",
   "metadata": {},
   "outputs": [],
   "source": [
    "import numpy as np\n",
    "import pandas as pd\n",
    "import random\n",
    "from datetime import date\n",
    "from elasticsearch import Elasticsearch\n",
    "from elasticsearch import helpers\n",
    "import os\n",
    "from faker import Faker"
   ]
  },
  {
   "cell_type": "code",
   "execution_count": 2,
   "id": "800bef12-ee3f-4073-9343-dcc326e2471f",
   "metadata": {},
   "outputs": [],
   "source": [
    "fake = Faker()"
   ]
  },
  {
   "cell_type": "code",
   "execution_count": 3,
   "id": "6cec6717-ed60-441c-a81d-0ad3e63330c3",
   "metadata": {},
   "outputs": [],
   "source": [
    "def get_list_of_offices():\n",
    "    return [\"New York\", \"Austin\", \"Seattle\",\"San Francisco\"]"
   ]
  },
  {
   "cell_type": "code",
   "execution_count": 4,
   "id": "a849913c-89b8-45e1-96ac-8031e0dbe09d",
   "metadata": {},
   "outputs": [],
   "source": [
    "def get_list_of_titles():\n",
    "    return [\"Engineer\",\"Sales Manager\",\"Analyst\",\"Sales Representative\"]"
   ]
  },
  {
   "cell_type": "code",
   "execution_count": 5,
   "id": "79aaa930-b237-406a-8cee-fd7d8abdb3cd",
   "metadata": {},
   "outputs": [],
   "source": [
    "def calculate_salary(title):\n",
    "    if title==\"Engineer\" :\n",
    "        return random.uniform(500,700)\n",
    "    elif title==\"Sales Manager\":\n",
    "        return random.uniform(800,900)\n",
    "    elif title==\"Analyst\":\n",
    "        return random.uniform(900,1000)\n",
    "    elif title==\"Sales Representative\":\n",
    "        return random.uniform(1000,1100)\n",
    "    else:\n",
    "        return 0\n",
    "\n",
    "    \n",
    "    \n",
    "    \n",
    "    "
   ]
  },
  {
   "cell_type": "code",
   "execution_count": 6,
   "id": "7d2d6989-e2ae-4312-9da5-815e1d638b93",
   "metadata": {},
   "outputs": [],
   "source": [
    "def create_customers_df(number_of_customers):\n",
    "    customers_list=[]\n",
    "    \n",
    "    for i in range(number_of_customers):\n",
    "        gender = np.random.choice([\"Male\",\"Female\"],p=[0.5,0.5])\n",
    "        birth_date=fake.date_between(start_date=\"-70y\", end_date=\"-18y\")\n",
    "        start_date=fake.date_between(start_date=birth_date.replace(birth_date.year+18), end_date='today')\n",
    "        title=np.random.choice(get_list_of_titles())\n",
    "        first_name=fake.first_name_male() if gender==\"Male\"  else fake.first_name_female()\n",
    "        last_name=fake.last_name()\n",
    "        salary=round(calculate_salary(title),2)\n",
    "        bonus_ratio=random.uniform(0.15,0.2)\n",
    "        customers_list.append(\n",
    "            {\n",
    "                \"customer_id\":(i+1),\n",
    "                \"first_name\":first_name,\n",
    "                \"last_name\": last_name,\n",
    "                \"gender\":gender,\n",
    "                \"birth_date\": birth_date,\n",
    "                \"start_date\": start_date,\n",
    "                \"office\": np.random.choice(get_list_of_offices()),\n",
    "                \"title\": title,\n",
    "                \"address\": fake.address(),\n",
    "                \"salary\": salary,\n",
    "                \"bonus\":  round((salary * bonus_ratio/500) *500,2),\n",
    "                \"e_mail\": (first_name+\".\"+last_name+\"@\"+fake.email().split(\"@\")[1]).lower()\n",
    "            }\n",
    "        )\n",
    "    return pd.DataFrame(customers_list)\n",
    "        "
   ]
  },
  {
   "cell_type": "code",
   "execution_count": 7,
   "id": "543a5f8c-4c9d-416a-862d-91259611111b",
   "metadata": {},
   "outputs": [],
   "source": [
    "customers_df=create_customers_df(10)"
   ]
  },
  {
   "cell_type": "code",
   "execution_count": 8,
   "id": "db5acf58-efd4-473d-aa56-3e6a2012e78f",
   "metadata": {},
   "outputs": [
    {
     "data": {
      "text/html": [
       "<div>\n",
       "<style scoped>\n",
       "    .dataframe tbody tr th:only-of-type {\n",
       "        vertical-align: middle;\n",
       "    }\n",
       "\n",
       "    .dataframe tbody tr th {\n",
       "        vertical-align: top;\n",
       "    }\n",
       "\n",
       "    .dataframe thead th {\n",
       "        text-align: right;\n",
       "    }\n",
       "</style>\n",
       "<table border=\"1\" class=\"dataframe\">\n",
       "  <thead>\n",
       "    <tr style=\"text-align: right;\">\n",
       "      <th></th>\n",
       "      <th>customer_id</th>\n",
       "      <th>first_name</th>\n",
       "      <th>last_name</th>\n",
       "      <th>gender</th>\n",
       "      <th>birth_date</th>\n",
       "      <th>start_date</th>\n",
       "      <th>office</th>\n",
       "      <th>title</th>\n",
       "      <th>address</th>\n",
       "      <th>salary</th>\n",
       "      <th>bonus</th>\n",
       "      <th>e_mail</th>\n",
       "    </tr>\n",
       "  </thead>\n",
       "  <tbody>\n",
       "    <tr>\n",
       "      <th>0</th>\n",
       "      <td>1</td>\n",
       "      <td>Amy</td>\n",
       "      <td>Pham</td>\n",
       "      <td>Female</td>\n",
       "      <td>1952-10-21</td>\n",
       "      <td>1999-10-12</td>\n",
       "      <td>Seattle</td>\n",
       "      <td>Engineer</td>\n",
       "      <td>527 Andre Junctions\\nNew Richard, WV 30108</td>\n",
       "      <td>636.08</td>\n",
       "      <td>120.83</td>\n",
       "      <td>amy.pham@example.org</td>\n",
       "    </tr>\n",
       "    <tr>\n",
       "      <th>1</th>\n",
       "      <td>2</td>\n",
       "      <td>Cameron</td>\n",
       "      <td>Chambers</td>\n",
       "      <td>Male</td>\n",
       "      <td>1996-08-09</td>\n",
       "      <td>2015-05-14</td>\n",
       "      <td>San Francisco</td>\n",
       "      <td>Engineer</td>\n",
       "      <td>3741 Cameron Via Suite 843\\nSouth Jose, ME 14710</td>\n",
       "      <td>589.30</td>\n",
       "      <td>92.86</td>\n",
       "      <td>cameron.chambers@example.com</td>\n",
       "    </tr>\n",
       "    <tr>\n",
       "      <th>2</th>\n",
       "      <td>3</td>\n",
       "      <td>Russell</td>\n",
       "      <td>Johnson</td>\n",
       "      <td>Male</td>\n",
       "      <td>1961-04-02</td>\n",
       "      <td>1987-01-02</td>\n",
       "      <td>Seattle</td>\n",
       "      <td>Engineer</td>\n",
       "      <td>4878 Harrington Ridge\\nSancheztown, CT 09520</td>\n",
       "      <td>610.30</td>\n",
       "      <td>97.17</td>\n",
       "      <td>russell.johnson@example.net</td>\n",
       "    </tr>\n",
       "    <tr>\n",
       "      <th>3</th>\n",
       "      <td>4</td>\n",
       "      <td>Brian</td>\n",
       "      <td>Valdez</td>\n",
       "      <td>Male</td>\n",
       "      <td>1976-08-12</td>\n",
       "      <td>2013-08-03</td>\n",
       "      <td>Austin</td>\n",
       "      <td>Engineer</td>\n",
       "      <td>891 Gina Mission Suite 987\\nMatthewville, OK 1...</td>\n",
       "      <td>522.70</td>\n",
       "      <td>88.79</td>\n",
       "      <td>brian.valdez@example.net</td>\n",
       "    </tr>\n",
       "    <tr>\n",
       "      <th>4</th>\n",
       "      <td>5</td>\n",
       "      <td>Elizabeth</td>\n",
       "      <td>Webb</td>\n",
       "      <td>Female</td>\n",
       "      <td>1952-02-12</td>\n",
       "      <td>2019-06-17</td>\n",
       "      <td>New York</td>\n",
       "      <td>Engineer</td>\n",
       "      <td>957 Marquez Expressway\\nJamesland, NE 61508</td>\n",
       "      <td>566.06</td>\n",
       "      <td>96.22</td>\n",
       "      <td>elizabeth.webb@example.com</td>\n",
       "    </tr>\n",
       "  </tbody>\n",
       "</table>\n",
       "</div>"
      ],
      "text/plain": [
       "   customer_id first_name last_name  gender  birth_date  start_date  \\\n",
       "0            1        Amy      Pham  Female  1952-10-21  1999-10-12   \n",
       "1            2    Cameron  Chambers    Male  1996-08-09  2015-05-14   \n",
       "2            3    Russell   Johnson    Male  1961-04-02  1987-01-02   \n",
       "3            4      Brian    Valdez    Male  1976-08-12  2013-08-03   \n",
       "4            5  Elizabeth      Webb  Female  1952-02-12  2019-06-17   \n",
       "\n",
       "          office     title                                            address  \\\n",
       "0        Seattle  Engineer         527 Andre Junctions\\nNew Richard, WV 30108   \n",
       "1  San Francisco  Engineer   3741 Cameron Via Suite 843\\nSouth Jose, ME 14710   \n",
       "2        Seattle  Engineer       4878 Harrington Ridge\\nSancheztown, CT 09520   \n",
       "3         Austin  Engineer  891 Gina Mission Suite 987\\nMatthewville, OK 1...   \n",
       "4       New York  Engineer        957 Marquez Expressway\\nJamesland, NE 61508   \n",
       "\n",
       "   salary   bonus                        e_mail  \n",
       "0  636.08  120.83          amy.pham@example.org  \n",
       "1  589.30   92.86  cameron.chambers@example.com  \n",
       "2  610.30   97.17   russell.johnson@example.net  \n",
       "3  522.70   88.79      brian.valdez@example.net  \n",
       "4  566.06   96.22    elizabeth.webb@example.com  "
      ]
     },
     "execution_count": 8,
     "metadata": {},
     "output_type": "execute_result"
    }
   ],
   "source": [
    "customers_df.head()"
   ]
  },
  {
   "cell_type": "code",
   "execution_count": 10,
   "id": "e4f7c357-a660-42b1-ae4b-41d9b1ed0e3b",
   "metadata": {},
   "outputs": [],
   "source": [
    "customers_df.to_csv(\"customers.csv\",index=False)"
   ]
  },
  {
   "cell_type": "code",
   "execution_count": 9,
   "id": "0c2c842b-4b04-43cc-9afc-0071c800346f",
   "metadata": {},
   "outputs": [],
   "source": [
    "es = Elasticsearch([{'host': '127.0.0.1', 'port': 9200}])"
   ]
  },
  {
   "cell_type": "code",
   "execution_count": 10,
   "id": "741948ae-6bde-44d6-bc11-c9563a69c630",
   "metadata": {},
   "outputs": [
    {
     "data": {
      "text/plain": [
       "<Elasticsearch([{'host': '127.0.0.1', 'port': 9200}])>"
      ]
     },
     "execution_count": 10,
     "metadata": {},
     "output_type": "execute_result"
    }
   ],
   "source": [
    "es"
   ]
  },
  {
   "cell_type": "code",
   "execution_count": 30,
   "id": "918e98d2-192c-4f27-9453-9a9adfdf85c1",
   "metadata": {},
   "outputs": [],
   "source": [
    "proba_doc={\n",
    "    \"autor\":\"Danilo\",\n",
    "    \"tekst\":\"Random tekst\",\n",
    "    \"datum\":date.today()\n",
    "}"
   ]
  },
  {
   "cell_type": "code",
   "execution_count": 31,
   "id": "3395624e-9af1-45d8-879a-2fab806b3fff",
   "metadata": {},
   "outputs": [
    {
     "data": {
      "text/plain": [
       "{'autor': 'Danilo',\n",
       " 'tekst': 'Random tekst',\n",
       " 'datum': datetime.date(2021, 10, 14)}"
      ]
     },
     "execution_count": 31,
     "metadata": {},
     "output_type": "execute_result"
    }
   ],
   "source": [
    "proba_doc"
   ]
  },
  {
   "cell_type": "code",
   "execution_count": 32,
   "id": "32220ee1-c597-4648-ae3d-ffc477ec0e92",
   "metadata": {},
   "outputs": [
    {
     "name": "stderr",
     "output_type": "stream",
     "text": [
      "<ipython-input-32-783339a4e9e4>:1: DeprecationWarning: The 'body' parameter is deprecated for the 'index' API and will be removed in 8.0.0. Instead use the 'document' parameter. See https://github.com/elastic/elasticsearch-py/issues/1698 for more information\n",
      "  red=es.index(index=\"proba\",body=proba_doc,id=1)\n",
      "/Users/danilojanjusevic/opt/anaconda3/lib/python3.8/site-packages/elasticsearch/connection/base.py:209: ElasticsearchWarning: Elasticsearch built-in security features are not enabled. Without authentication, your cluster could be accessible to anyone. See https://www.elastic.co/guide/en/elasticsearch/reference/7.15/security-minimal-setup.html to enable security.\n",
      "  warnings.warn(message, category=ElasticsearchWarning)\n"
     ]
    }
   ],
   "source": [
    "red=es.index(index=\"proba\",body=proba_doc,id=1)"
   ]
  },
  {
   "cell_type": "code",
   "execution_count": 12,
   "id": "c86a8dfd-9a95-443e-aed3-c86825c2be04",
   "metadata": {},
   "outputs": [],
   "source": [
    "request_body = {\n",
    "    \"settings\": {\n",
    "        \"analysis\": {\n",
    "            \"analyzer\": {\n",
    "                \"autocomplete_analyzer\": {\n",
    "                    \"tokenizer\": \"autocomplete\",\n",
    "                    \"filter\": [\n",
    "                        \"lowercase\"\n",
    "                    ]\n",
    "                },\n",
    "                \"autocomplete_search_analyzer\": {\n",
    "                    \"tokenizer\": \"keyword\",\n",
    "                    \"filter\": [\n",
    "                        \"lowercase\"\n",
    "                    ]\n",
    "                }\n",
    "            },\n",
    "            \"tokenizer\": {\n",
    "                \"autocomplete\": {\n",
    "                    \"type\": \"edge_ngram\",\n",
    "                    \"min_gram\": 1,\n",
    "                    \"max_gram\": 30,\n",
    "                    \"token_chars\": [\n",
    "                        \"letter\",\n",
    "                        \"digit\",\n",
    "                        \"whitespace\"\n",
    "                    ]\n",
    "                }\n",
    "            }\n",
    "        }\n",
    "    },\n",
    "    'mappings': {\n",
    "        'doc': {\n",
    "            'properties': {\n",
    "                'customer_id':\n",
    "                    {\n",
    "                        \"type\": \"integer\",\n",
    "                    },\n",
    "                \"first_name\":\n",
    "                    {\n",
    "                        \"type\": \"text\"\n",
    "                    },\n",
    "                \"last_name\":\n",
    "                    {\n",
    "                        \"type\":\"text\"\n",
    "                    },\n",
    "                \"gender\":\n",
    "                    {\n",
    "                        \"type\":\"text\"\n",
    "                    },\n",
    "                \"birth_date\":\n",
    "                    {\n",
    "                        \"type\":\"date\",\n",
    "                        \"format\": \"yyyy-MM-dd HH:mm:ss||yyyy-MM-dd||epoch_millis\"\n",
    "                    },\n",
    "                \"start_date\":\n",
    "                    {\n",
    "                        \"type\":\"date\",\n",
    "                        \"format\": \"yyyy-MM-dd HH:mm:ss||yyyy-MM-dd||epoch_millis\"\n",
    "                    },\n",
    "                \"office\":\n",
    "                    {\n",
    "                        \"type\":\"text\"\n",
    "                    },\n",
    "                \"title\":\n",
    "                    {\n",
    "                        \"type\":\"text\"\n",
    "                    },\n",
    "                \"address\":\n",
    "                    {\n",
    "                        \"type\":\"text\"\n",
    "                    },\n",
    "                \"salary\":\n",
    "                    {\n",
    "                        \"type\":\"double\"\n",
    "                    },\n",
    "                \"bonus\":\n",
    "                    {\n",
    "                        \"type\":\"double\"\n",
    "                    },\n",
    "                \"e_mail\":\n",
    "                    {\n",
    "                        \"type\":\"text\"\n",
    "                    }\n",
    "                }\n",
    "            }\n",
    "        }\n",
    "    }"
   ]
  },
  {
   "cell_type": "code",
   "execution_count": 13,
   "id": "10af5de3-a006-41d2-8b9d-2f0a3311f46f",
   "metadata": {},
   "outputs": [],
   "source": [
    "name_of_index=\"customers\""
   ]
  },
  {
   "cell_type": "code",
   "execution_count": 14,
   "id": "f5eddca6-c00e-447f-ae3a-85006f407ee9",
   "metadata": {},
   "outputs": [
    {
     "name": "stderr",
     "output_type": "stream",
     "text": [
      "<ipython-input-14-8d6acd5af9d8>:1: DeprecationWarning: The 'body' parameter is deprecated for the 'index' API and will be removed in 8.0.0. Instead use the 'document' parameter. See https://github.com/elastic/elasticsearch-py/issues/1698 for more information\n",
      "  res=es.index(index=name_of_index,body=request_body)\n"
     ]
    }
   ],
   "source": [
    "res=es.index(index=name_of_index,body=request_body)"
   ]
  },
  {
   "cell_type": "code",
   "execution_count": 19,
   "id": "f06c4d21-5a11-4e9c-bcb5-9d3d711f7502",
   "metadata": {
    "tags": []
   },
   "outputs": [],
   "source": [
    "class ElasticExporter:\n",
    "    \n",
    "    @staticmethod\n",
    "    def export_dataframe(df,index_name):\n",
    "        list_of_instances=[]\n",
    "        for i in range(len(df)):\n",
    "            row=df.loc[i]\n",
    "            instance={}\n",
    "            for j in range(len(row)):\n",
    "                column=row[j]\n",
    "                instance[df.columns[j]]=column\n",
    "            op_dict={\n",
    "                \"index\": {\n",
    "                    \"_index\": index_name\n",
    "                }\n",
    "            }\n",
    "            list_of_instances.append(op_dict)\n",
    "            list_of_instances.append(instance)\n",
    "        res=es.bulk(index=index_name,body=list_of_instances)\n",
    "                \n",
    "            \n",
    "            \n",
    "    \n",
    "    \n",
    "    \n",
    "    \n",
    "    "
   ]
  },
  {
   "cell_type": "code",
   "execution_count": 23,
   "id": "b7bae30c-7918-4dfa-874d-646b165033f4",
   "metadata": {},
   "outputs": [],
   "source": [
    "ElasticExporter.export_dataframe(customers_df,name_of_index)"
   ]
  },
  {
   "cell_type": "code",
   "execution_count": 24,
   "id": "4702473d-1b7e-4c18-b8f2-d27a8c894330",
   "metadata": {},
   "outputs": [
    {
     "name": "stderr",
     "output_type": "stream",
     "text": [
      "<ipython-input-24-226b95a426ba>:1: DeprecationWarning: The 'body' parameter is deprecated for the 'search' API and will be removed in 8.0.0. Instead use API parameters directly. See https://github.com/elastic/elasticsearch-py/issues/1698 for more information\n",
      "  es.search(index=name_of_index, body={\"query\": {\"match_all\": {}}})['hits']['total']\n"
     ]
    },
    {
     "data": {
      "text/plain": [
       "{'value': 10, 'relation': 'eq'}"
      ]
     },
     "execution_count": 24,
     "metadata": {},
     "output_type": "execute_result"
    }
   ],
   "source": [
    "es.search(index=name_of_index, body={\"query\": {\"match_all\": {}}})['hits']['total']"
   ]
  },
  {
   "cell_type": "code",
   "execution_count": 80,
   "id": "f3d623ef-9421-4c82-a1e3-a7eac65526b5",
   "metadata": {},
   "outputs": [],
   "source": [
    "op_dict = {\n",
    "    \"index\": {\n",
    "             \"_index\": name_of_index,\n",
    "             \"_type\": '_doc',\n",
    "                    }\n",
    "                }"
   ]
  },
  {
   "cell_type": "code",
   "execution_count": 74,
   "id": "1a5bee23-bcc9-431c-9411-7049f321b93b",
   "metadata": {},
   "outputs": [],
   "source": [
    "new_dict={}"
   ]
  },
  {
   "cell_type": "code",
   "execution_count": 75,
   "id": "ca53889c-a671-425e-bbcf-81255c43a2c0",
   "metadata": {},
   "outputs": [
    {
     "data": {
      "text/plain": [
       "'customer_id'"
      ]
     },
     "execution_count": 75,
     "metadata": {},
     "output_type": "execute_result"
    }
   ],
   "source": [
    "customers_df.columns[0]"
   ]
  },
  {
   "cell_type": "code",
   "execution_count": 77,
   "id": "df26cc6e-f44b-4302-a76d-29f39b02d44d",
   "metadata": {},
   "outputs": [],
   "source": [
    "for i in range(len(customers_df.columns)):\n",
    "    new_dict[customers_df.columns[i]]=customers_df.loc[0][i]\n",
    "    "
   ]
  },
  {
   "cell_type": "code",
   "execution_count": 81,
   "id": "af6b4d56-7a36-4d78-8f22-4684cd19e261",
   "metadata": {},
   "outputs": [
    {
     "data": {
      "text/plain": [
       "{'took': 188,\n",
       " 'errors': False,\n",
       " 'items': [{'index': {'_index': 'customers',\n",
       "    '_type': '_doc',\n",
       "    '_id': 'RRT0fnwB9UfO0s8KoMv7',\n",
       "    '_version': 1,\n",
       "    'result': 'created',\n",
       "    '_shards': {'total': 2, 'successful': 1, 'failed': 0},\n",
       "    '_seq_no': 1,\n",
       "    '_primary_term': 1,\n",
       "    'status': 201}}]}"
      ]
     },
     "execution_count": 81,
     "metadata": {},
     "output_type": "execute_result"
    }
   ],
   "source": [
    "es.bulk(index=name_of_index,body=[op_dict,new_dict])"
   ]
  },
  {
   "cell_type": "code",
   "execution_count": 78,
   "id": "f1e7813d-473b-479d-8b0e-c83e6ac005fa",
   "metadata": {},
   "outputs": [
    {
     "data": {
      "text/plain": [
       "{'customer_id': 1,\n",
       " 'first_name': 'Steven',\n",
       " 'last_name': 'Lopez',\n",
       " 'gender': 'Male',\n",
       " 'birth_date': datetime.date(1983, 11, 25),\n",
       " 'start_date': datetime.date(2017, 8, 31),\n",
       " 'office': 'New York',\n",
       " 'title': 'Sales Representative',\n",
       " 'address': '0241 Jacobson Drives Apt. 726\\nSouth James, DC 83872',\n",
       " 'salary': 1098.64,\n",
       " 'bonus': 189.05,\n",
       " 'e_mail': 'steven.lopez@example.net'}"
      ]
     },
     "execution_count": 78,
     "metadata": {},
     "output_type": "execute_result"
    }
   ],
   "source": [
    "new_dict"
   ]
  },
  {
   "cell_type": "code",
   "execution_count": 27,
   "id": "904d82ac-f690-4ebd-ac24-c1d4e2db42ba",
   "metadata": {},
   "outputs": [],
   "source": [
    "query_body={\n",
    "  \"query\": { \n",
    "    \"bool\": { \n",
    "      \"must\": [\n",
    "        { \"match\": { \"title\":   \"Engineer\"        }}\n",
    "      ]\n",
    "    }\n",
    "  }\n",
    "}"
   ]
  },
  {
   "cell_type": "code",
   "execution_count": 28,
   "id": "8b62244d-7e82-43b6-832f-36da5ffa5d15",
   "metadata": {},
   "outputs": [
    {
     "name": "stderr",
     "output_type": "stream",
     "text": [
      "<ipython-input-28-f1ceba1006fa>:1: DeprecationWarning: The 'body' parameter is deprecated for the 'search' API and will be removed in 8.0.0. Instead use API parameters directly. See https://github.com/elastic/elasticsearch-py/issues/1698 for more information\n",
      "  es.search(index=name_of_index,body=query_body)\n",
      "/Users/danilojanjusevic/opt/anaconda3/lib/python3.8/site-packages/elasticsearch/connection/base.py:209: ElasticsearchWarning: Elasticsearch built-in security features are not enabled. Without authentication, your cluster could be accessible to anyone. See https://www.elastic.co/guide/en/elasticsearch/reference/7.15/security-minimal-setup.html to enable security.\n",
      "  warnings.warn(message, category=ElasticsearchWarning)\n"
     ]
    },
    {
     "data": {
      "text/plain": [
       "{'took': 3,\n",
       " 'timed_out': False,\n",
       " '_shards': {'total': 1, 'successful': 1, 'skipped': 0, 'failed': 0},\n",
       " 'hits': {'total': {'value': 6, 'relation': 'eq'},\n",
       "  'max_score': 0.58093685,\n",
       "  'hits': [{'_index': 'customers',\n",
       "    '_type': '_doc',\n",
       "    '_id': '6SuzgnwBoMiF0DNXZL8U',\n",
       "    '_score': 0.58093685,\n",
       "    '_source': {'customer_id': 1,\n",
       "     'first_name': 'Amy',\n",
       "     'last_name': 'Pham',\n",
       "     'gender': 'Female',\n",
       "     'birth_date': '1952-10-21',\n",
       "     'start_date': '1999-10-12',\n",
       "     'office': 'Seattle',\n",
       "     'title': 'Engineer',\n",
       "     'address': '527 Andre Junctions\\nNew Richard, WV 30108',\n",
       "     'salary': 636.08,\n",
       "     'bonus': 120.83,\n",
       "     'e_mail': 'amy.pham@example.org'}},\n",
       "   {'_index': 'customers',\n",
       "    '_type': '_doc',\n",
       "    '_id': '6iuzgnwBoMiF0DNXZL8U',\n",
       "    '_score': 0.58093685,\n",
       "    '_source': {'customer_id': 2,\n",
       "     'first_name': 'Cameron',\n",
       "     'last_name': 'Chambers',\n",
       "     'gender': 'Male',\n",
       "     'birth_date': '1996-08-09',\n",
       "     'start_date': '2015-05-14',\n",
       "     'office': 'San Francisco',\n",
       "     'title': 'Engineer',\n",
       "     'address': '3741 Cameron Via Suite 843\\nSouth Jose, ME 14710',\n",
       "     'salary': 589.3,\n",
       "     'bonus': 92.86,\n",
       "     'e_mail': 'cameron.chambers@example.com'}},\n",
       "   {'_index': 'customers',\n",
       "    '_type': '_doc',\n",
       "    '_id': '6yuzgnwBoMiF0DNXZL8U',\n",
       "    '_score': 0.58093685,\n",
       "    '_source': {'customer_id': 3,\n",
       "     'first_name': 'Russell',\n",
       "     'last_name': 'Johnson',\n",
       "     'gender': 'Male',\n",
       "     'birth_date': '1961-04-02',\n",
       "     'start_date': '1987-01-02',\n",
       "     'office': 'Seattle',\n",
       "     'title': 'Engineer',\n",
       "     'address': '4878 Harrington Ridge\\nSancheztown, CT 09520',\n",
       "     'salary': 610.3,\n",
       "     'bonus': 97.17,\n",
       "     'e_mail': 'russell.johnson@example.net'}},\n",
       "   {'_index': 'customers',\n",
       "    '_type': '_doc',\n",
       "    '_id': '7CuzgnwBoMiF0DNXZL8U',\n",
       "    '_score': 0.58093685,\n",
       "    '_source': {'customer_id': 4,\n",
       "     'first_name': 'Brian',\n",
       "     'last_name': 'Valdez',\n",
       "     'gender': 'Male',\n",
       "     'birth_date': '1976-08-12',\n",
       "     'start_date': '2013-08-03',\n",
       "     'office': 'Austin',\n",
       "     'title': 'Engineer',\n",
       "     'address': '891 Gina Mission Suite 987\\nMatthewville, OK 11190',\n",
       "     'salary': 522.7,\n",
       "     'bonus': 88.79,\n",
       "     'e_mail': 'brian.valdez@example.net'}},\n",
       "   {'_index': 'customers',\n",
       "    '_type': '_doc',\n",
       "    '_id': '7SuzgnwBoMiF0DNXZL8U',\n",
       "    '_score': 0.58093685,\n",
       "    '_source': {'customer_id': 5,\n",
       "     'first_name': 'Elizabeth',\n",
       "     'last_name': 'Webb',\n",
       "     'gender': 'Female',\n",
       "     'birth_date': '1952-02-12',\n",
       "     'start_date': '2019-06-17',\n",
       "     'office': 'New York',\n",
       "     'title': 'Engineer',\n",
       "     'address': '957 Marquez Expressway\\nJamesland, NE 61508',\n",
       "     'salary': 566.06,\n",
       "     'bonus': 96.22,\n",
       "     'e_mail': 'elizabeth.webb@example.com'}},\n",
       "   {'_index': 'customers',\n",
       "    '_type': '_doc',\n",
       "    '_id': '8CuzgnwBoMiF0DNXZL8U',\n",
       "    '_score': 0.58093685,\n",
       "    '_source': {'customer_id': 8,\n",
       "     'first_name': 'Robert',\n",
       "     'last_name': 'Owens',\n",
       "     'gender': 'Male',\n",
       "     'birth_date': '1979-06-29',\n",
       "     'start_date': '2019-01-25',\n",
       "     'office': 'New York',\n",
       "     'title': 'Engineer',\n",
       "     'address': '996 Bray Fall\\nBarnesbury, AR 16208',\n",
       "     'salary': 698.18,\n",
       "     'bonus': 130.03,\n",
       "     'e_mail': 'robert.owens@example.org'}}]}}"
      ]
     },
     "execution_count": 28,
     "metadata": {},
     "output_type": "execute_result"
    }
   ],
   "source": [
    "es.search(index=name_of_index,body=query_body)"
   ]
  },
  {
   "cell_type": "code",
   "execution_count": null,
   "id": "ee4076b0-e0c8-4168-bb6e-8ab57490341f",
   "metadata": {},
   "outputs": [],
   "source": []
  }
 ],
 "metadata": {
  "kernelspec": {
   "display_name": "Python 3",
   "language": "python",
   "name": "python3"
  },
  "language_info": {
   "codemirror_mode": {
    "name": "ipython",
    "version": 3
   },
   "file_extension": ".py",
   "mimetype": "text/x-python",
   "name": "python",
   "nbconvert_exporter": "python",
   "pygments_lexer": "ipython3",
   "version": "3.8.8"
  }
 },
 "nbformat": 4,
 "nbformat_minor": 5
}
